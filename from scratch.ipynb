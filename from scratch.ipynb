{
 "cells": [
  {
   "cell_type": "code",
   "execution_count": 1,
   "metadata": {},
   "outputs": [],
   "source": [
    "import numpy as np\n",
    "import pandas as pd\n",
    "import os"
   ]
  },
  {
   "cell_type": "code",
   "execution_count": 2,
   "metadata": {},
   "outputs": [
    {
     "data": {
      "text/plain": [
       "['alt.atheism',\n",
       " 'comp.graphics',\n",
       " 'comp.os.ms-windows.misc',\n",
       " 'comp.sys.ibm.pc.hardware',\n",
       " 'comp.sys.mac.hardware',\n",
       " 'comp.windows.x',\n",
       " 'misc.forsale',\n",
       " 'rec.autos',\n",
       " 'rec.motorcycles',\n",
       " 'rec.sport.baseball',\n",
       " 'rec.sport.hockey',\n",
       " 'sci.crypt',\n",
       " 'sci.electronics',\n",
       " 'sci.med',\n",
       " 'sci.space',\n",
       " 'soc.religion.christian',\n",
       " 'talk.politics.guns',\n",
       " 'talk.politics.mideast',\n",
       " 'talk.politics.misc',\n",
       " 'talk.religion.misc']"
      ]
     },
     "execution_count": 2,
     "metadata": {},
     "output_type": "execute_result"
    }
   ],
   "source": [
    "DATA_DIR='20_newsgroups'\n",
    "folders=sorted(os.listdir(os.path.join(DATA_DIR))) # os.listdir gives a list of all files in this path\n",
    "folders"
   ]
  },
  {
   "cell_type": "code",
   "execution_count": 3,
   "metadata": {},
   "outputs": [],
   "source": [
    "data={} \n",
    "for folder in folders:\n",
    "    data[folder]=[]\n",
    "    for file in os.listdir(os.path.join(DATA_DIR,folder)):\n",
    "        with open(os.path.join(DATA_DIR,folder,file),encoding='latin-1') as opened_file:\n",
    "            data[folder].append(opened_file.read())\n"
   ]
  },
  {
   "cell_type": "code",
   "execution_count": 4,
   "metadata": {},
   "outputs": [],
   "source": [
    "from nltk.corpus import stopwords \n",
    "from string import punctuation \n",
    "punctuations=list(punctuation)\n",
    "stopWords=stopwords.words('english')\n",
    "stopWords+=punctuations "
   ]
  },
  {
   "cell_type": "code",
   "execution_count": 5,
   "metadata": {},
   "outputs": [],
   "source": [
    "stopWords+=['subject:','from:', 'date:', 'newsgroups:', 'message-id:', 'lines:', 'path:', 'organization:', \n",
    "            'would', 'writes:', 'references:', 'article', 'sender:', 'nntp-posting-host:', 'people', \n",
    "            'university', 'think', 'xref:', 'cantaloupe.srv.cs.cmu.edu', 'could', 'distribution:', 'first', \n",
    "            'anyone','world', 'really', 'since', 'right', 'believe', 'still', \n",
    "            \"max>'ax>'ax>'ax>'ax>'ax>'ax>'ax>'ax>'ax>'ax>'ax>'ax>'ax>'ax>'\"]"
   ]
  },
  {
   "cell_type": "code",
   "execution_count": 6,
   "metadata": {},
   "outputs": [],
   "source": [
    "vocab={}\n",
    "for i in range(len(data)): \n",
    "    for doc in data[folders[i]]: \n",
    "        for word in doc.split(): \n",
    "            if word.lower() not in stopWords and len(word.lower()) >= 5:\n",
    "                if word.lower() not in vocab:\n",
    "                    vocab[word.lower()]=1\n",
    "                else:\n",
    "                    vocab[word.lower()]+=1\n"
   ]
  },
  {
   "cell_type": "code",
   "execution_count": 7,
   "metadata": {},
   "outputs": [],
   "source": [
    "import operator\n",
    "sorted_vocab=sorted(vocab.items(),key=operator.itemgetter(1),reverse=True)"
   ]
  },
  {
   "cell_type": "code",
   "execution_count": 8,
   "metadata": {},
   "outputs": [],
   "source": [
    "# Choosing top 2000 vocab words as features\n",
    "feature_list=[]\n",
    "for key in sorted_vocab:\n",
    "    feature_list.append(key[0])\n",
    "feature_list=feature_list[0:2000] # K = 2000 (number of words in vocab)"
   ]
  },
  {
   "cell_type": "code",
   "execution_count": 9,
   "metadata": {},
   "outputs": [],
   "source": [
    "Y=[] \n",
    "for i in range(len(data)):\n",
    "    for doc in data[folders[i]]:\n",
    "        Y.append(folders[i])\n",
    "Y=np.array(Y)"
   ]
  },
  {
   "cell_type": "code",
   "execution_count": 10,
   "metadata": {},
   "outputs": [],
   "source": [
    "df = pd.DataFrame(columns = feature_list)\n",
    "for folder in folders:\n",
    "    for file in os.listdir(os.path.join(DATA_DIR,folder)):\n",
    "        df.loc[len(df)] = np.zeros(len(feature_list))\n",
    "        with open(os.path.join(DATA_DIR,folder,file),encoding='latin-1') as opened_file:\n",
    "            for word in opened_file.read().split():\n",
    "                if word.lower() in feature_list:\n",
    "                    df[word.lower()][len(df)-1] += 1 "
   ]
  },
  {
   "cell_type": "code",
   "execution_count": 11,
   "metadata": {},
   "outputs": [],
   "source": [
    "X=df.values"
   ]
  },
  {
   "cell_type": "code",
   "execution_count": 21,
   "metadata": {},
   "outputs": [],
   "source": [
    "from sklearn.model_selection import train_test_split\n",
    "x_train,x_test,y_train,y_test=train_test_split(X,Y,random_state=0,test_size=0.3)"
   ]
  },
  {
   "cell_type": "code",
   "execution_count": 22,
   "metadata": {},
   "outputs": [],
   "source": [
    "def fit(x_train,y_train):\n",
    "    result={}\n",
    "    result[\"total_data\"]=len(y_train)\n",
    "    class_labels=set(y_train)\n",
    "    for current_label in class_labels:\n",
    "        result[current_label]={}\n",
    "        current_rows=(y_train==current_label)\n",
    "        x_train_current=x_train[current_rows]\n",
    "        y_train_current=y_train[current_rows]\n",
    "        total_words=0\n",
    "        for i in range(len(feature_list)):\n",
    "            result[current_label][feature_list[i]]=x_train_current[:,i].sum()\n",
    "            total_words+=x_train_current[:,i].sum()\n",
    "        result[current_label][\"total_count\"]=total_words\n",
    "    return result"
   ]
  },
  {
   "cell_type": "code",
   "execution_count": 23,
   "metadata": {},
   "outputs": [],
   "source": [
    "def probability(x,dictionary,current_class):\n",
    "    output=np.log(dictionary[current_class][\"total_count\"])-np.log(dictionary[\"total_data\"])\n",
    "    for i in range(len(feature_list)):\n",
    "        current_word_count=dictionary[current_class][feature_list[i]]+1\n",
    "        total_word_count=dictionary[current_class][\"total_count\"]+len(feature_list)\n",
    "        current_word_probability=np.log(current_word_count)-np.log(total_word_count)\n",
    "        for j in range(int(x[i])): # if the frequency of word in test data point is zero then we wont consider it.\n",
    "            output+=current_word_probability\n",
    "    return output"
   ]
  },
  {
   "cell_type": "code",
   "execution_count": 24,
   "metadata": {},
   "outputs": [],
   "source": [
    "def predictSingleClass(x,dictionary):\n",
    "    best_class=-1000\n",
    "    best_prob=-1000\n",
    "    firstRun=True\n",
    "    possible_classes=dictionary.keys()\n",
    "    for current_class in possible_classes:\n",
    "        if current_class==\"total_data\":\n",
    "            continue\n",
    "        current_class_probability=probability(x,dictionary,current_class)\n",
    "        if(firstRun==True or current_class_probability>best_prob):\n",
    "            best_class=current_class\n",
    "            best_prob=current_class_probability\n",
    "        firstRun=False\n",
    "    return best_class"
   ]
  },
  {
   "cell_type": "code",
   "execution_count": 25,
   "metadata": {},
   "outputs": [],
   "source": [
    "def predict(X_test,dictionary):\n",
    "    Y_pred=[]\n",
    "    num = 0\n",
    "    for x in X_test:\n",
    "        Y_pred.append(predictSingleClass(x,dictionary))\n",
    "    return Y_pred"
   ]
  },
  {
   "cell_type": "code",
   "execution_count": 26,
   "metadata": {},
   "outputs": [],
   "source": [
    "dictionary=fit(x_train,y_train)"
   ]
  },
  {
   "cell_type": "code",
   "execution_count": 27,
   "metadata": {},
   "outputs": [],
   "source": [
    "y_pred=predict(x_test,dictionary)"
   ]
  },
  {
   "cell_type": "code",
   "execution_count": 28,
   "metadata": {},
   "outputs": [
    {
     "name": "stdout",
     "output_type": "stream",
     "text": [
      "                          precision    recall  f1-score   support\n",
      "\n",
      "             alt.atheism       0.80      0.74      0.77       297\n",
      "           comp.graphics       0.80      0.77      0.79       311\n",
      " comp.os.ms-windows.misc       0.86      0.84      0.85       317\n",
      "comp.sys.ibm.pc.hardware       0.86      0.82      0.84       299\n",
      "   comp.sys.mac.hardware       0.91      0.87      0.89       309\n",
      "          comp.windows.x       0.90      0.90      0.90       294\n",
      "            misc.forsale       0.82      0.85      0.83       293\n",
      "               rec.autos       0.86      0.88      0.87       314\n",
      "         rec.motorcycles       0.93      0.84      0.88       359\n",
      "      rec.sport.baseball       0.97      0.93      0.95       321\n",
      "        rec.sport.hockey       0.97      0.96      0.97       279\n",
      "               sci.crypt       0.85      0.89      0.87       266\n",
      "         sci.electronics       0.86      0.87      0.86       306\n",
      "                 sci.med       0.84      0.91      0.87       275\n",
      "               sci.space       0.89      0.90      0.90       285\n",
      "  soc.religion.christian       0.99      0.92      0.95       330\n",
      "      talk.politics.guns       0.85      0.75      0.79       336\n",
      "   talk.politics.mideast       0.87      0.91      0.89       315\n",
      "      talk.politics.misc       0.61      0.69      0.65       283\n",
      "      talk.religion.misc       0.47      0.64      0.54       211\n",
      "\n",
      "                accuracy                           0.85      6000\n",
      "               macro avg       0.85      0.84      0.84      6000\n",
      "            weighted avg       0.85      0.85      0.85      6000\n",
      "\n"
     ]
    }
   ],
   "source": [
    "from sklearn.metrics import classification_report,confusion_matrix\n",
    "cm=confusion_matrix(y_pred,y_test)\n",
    "print(classification_report(y_pred,y_test))"
   ]
  },
  {
   "cell_type": "code",
   "execution_count": 29,
   "metadata": {},
   "outputs": [
    {
     "data": {
      "image/png": "[encoded data removed]",
      "text/plain": [
       "<Figure size 720x720 with 2 Axes>"
      ]
     },
     "metadata": {
      "needs_background": "light"
     },
     "output_type": "display_data"
    }
   ],
   "source": [
    "import seaborn as sns\n",
    "import matplotlib.pyplot as plt\n",
    "\n",
    "f, ax=plt.subplots(figsize=(10,10))\n",
    "sns.heatmap(cm,annot=True,linewidths=0.5,linecolor=\"red\",fmt=\".0f\",ax=ax)\n",
    "plt.ylabel(\"y_pred\")\n",
    "plt.xlabel(\"y_true\")\n",
    "plt.show()"
   ]
  }
 ],
 "metadata": {
  "kernelspec": {
   "display_name": "Python 3",
   "language": "python",
   "name": "python3"
  },
  "language_info": {
   "codemirror_mode": {
    "name": "ipython",
    "version": 3
   },
   "file_extension": ".py",
   "mimetype": "text/x-python",
   "name": "python",
   "nbconvert_exporter": "python",
   "pygments_lexer": "ipython3",
   "version": "3.8.3"
  }
 },
 "nbformat": 4,
 "nbformat_minor": 2
}
